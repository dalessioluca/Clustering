{
 "cells": [
  {
   "cell_type": "markdown",
   "metadata": {},
   "source": [
    "# MNIST VAE with enumeration of discrete latent variable"
   ]
  },
  {
   "cell_type": "code",
   "execution_count": 22,
   "metadata": {
    "collapsed": true
   },
   "outputs": [],
   "source": [
    "import matplotlib.pyplot as plt\n",
    "%matplotlib inline\n",
    "\n",
    "import pickle\n",
    "import numpy as np\n",
    "import os\n",
    "import torch\n",
    "import torchvision\n",
    "import torchvision.transforms as tvt\n",
    "import pyro\n",
    "import pyro.distributions as dist\n",
    "from pyro.infer import SVI, Trace_ELBO #, TraceGraph_ELBO\n",
    "from pyro.optim import Adam, Adamax, Adadelta, SGD\n",
    "from torchvision import utils\n",
    "from matplotlib.pyplot import imshow\n",
    "from torch.distributions import constraints"
   ]
  },
  {
   "cell_type": "markdown",
   "metadata": {},
   "source": [
    "### Helper function"
   ]
  },
  {
   "cell_type": "code",
   "execution_count": 23,
   "metadata": {
    "collapsed": true
   },
   "outputs": [],
   "source": [
    "def show_batch(images,nrow=4,npadding=10):\n",
    "    \"\"\"Visualize a torch tensor of shape: (batch x ch x width x height) \"\"\"\n",
    "    batch, ch, width, height = images.shape\n",
    "    if(images.device != \"cpu\"):\n",
    "        images=images.cpu()\n",
    "    grid = utils.make_grid(images,nrow, npadding, normalize=True, range=None, scale_each=True, pad_value=1)       \n",
    "    imshow(grid.detach().numpy().transpose((1, 2, 0))) \n",
    "    \n",
    "def train_one_epoch(svi, dataloader, verbose=False):\n",
    "    epoch_loss = 0.\n",
    "    n = 0\n",
    "    for i, data in enumerate(dataloader, 0): #loop over minibatches\n",
    "            \n",
    "        # Get images and flatten them into vectors\n",
    "        imgs,labels= data\n",
    "        n += len(labels)\n",
    "        if torch.cuda.is_available():\n",
    "            imgs=imgs.cuda()\n",
    "            \n",
    "        loss = svi.step(imgs)\n",
    "        \n",
    "        if(verbose):\n",
    "            print(\"i= %3d train_loss=%.5f\" %(i,loss))\n",
    "        epoch_loss += loss\n",
    "\n",
    "    return epoch_loss / n\n",
    "\n",
    "def evaluate_one_epoch(svi, dataloader, verbose=False):\n",
    "    epoch_loss = 0.\n",
    "    n = 0\n",
    "    for i, data in enumerate(dataloader, 0): #loop over minibatches\n",
    "            \n",
    "        # Get images and flatten them into vectors\n",
    "        imgs,labels= data\n",
    "        n += len(labels)\n",
    "        if torch.cuda.is_available():\n",
    "            imgs=imgs.cuda()\n",
    "        \n",
    "        loss = svi.evaluate_loss(imgs)\n",
    "        \n",
    "        if(verbose):\n",
    "            print(\"i= %3d  test_loss=%.5f\" %(i,loss))\n",
    "        epoch_loss += loss\n",
    "\n",
    "    return epoch_loss / n\n",
    "\n",
    "def save_obj(obj,root_dir,name):\n",
    "    with open(root_dir + name + '.pkl', 'wb') as f:\n",
    "        pickle.dump(obj, f, pickle.HIGHEST_PROTOCOL)\n",
    "\n",
    "def load_obj(root_dir,name):\n",
    "    with open(root_dir + name + '.pkl', 'rb') as f:\n",
    "        return pickle.load(f)\n",
    "    \n",
    "def save_model(model, root_dir, name):\n",
    "    full_file_path= root_dir + name + '.pkl'\n",
    "    torch.save(model.state_dict(),full_file_path)\n",
    "    \n",
    "def load_model(model, root_dir, name):\n",
    "    full_file_path= root_dir + name + '.pkl'\n",
    "    model.load_state_dict(torch.load(full_file_path))"
   ]
  },
  {
   "cell_type": "markdown",
   "metadata": {},
   "source": [
    "### Define the simulation parameters"
   ]
  },
  {
   "cell_type": "code",
   "execution_count": 24,
   "metadata": {},
   "outputs": [
    {
     "name": "stdout",
     "output_type": "stream",
     "text": [
      "{'K': 10, 'CHANNELS': 1, 'WIDTH': 28, 'HEIGHT': 28, 'Z_DIM': 2, 'use_cuda': True}\n"
     ]
    }
   ],
   "source": [
    "params = { \n",
    "    'K' : 10, #number of clusters\n",
    "    'CHANNELS' : 1,\n",
    "    'WIDTH' : 28,\n",
    "    'HEIGHT':28,\n",
    "    'Z_DIM':2,\n",
    "    'use_cuda' : torch.cuda.is_available()\n",
    "    }\n",
    "print(params)"
   ]
  },
  {
   "cell_type": "markdown",
   "metadata": {},
   "source": [
    "### Get the data"
   ]
  },
  {
   "cell_type": "code",
   "execution_count": null,
   "metadata": {},
   "outputs": [],
   "source": []
  },
  {
   "cell_type": "markdown",
   "metadata": {},
   "source": [
    "### Define the VAE class"
   ]
  },
  {
   "cell_type": "code",
   "execution_count": 25,
   "metadata": {
    "collapsed": true
   },
   "outputs": [],
   "source": [
    "class ENCODER(torch.nn.Module):\n",
    "    \"\"\" x -> p \"\"\"\n",
    "    \n",
    "    def __init__(self, params):\n",
    "        super().__init__()\n",
    "        self.K      = params['K']\n",
    "        self.ch     = params['CHANNELS']\n",
    "        self.width  = params['WIDTH']\n",
    "        self.height = params['HEIGHT']\n",
    "        self.z_dim  = params['Z_DIM']\n",
    "        self.x_dim = self.ch*self.width*self.height\n",
    "        self.comp_p  = torch.nn.Sequential(\n",
    "            torch.nn.Linear(self.x_dim,100, bias=True),\n",
    "            torch.nn.ReLU(),\n",
    "            torch.nn.Linear(100,self.K, bias=True)\n",
    "        )\n",
    "            \n",
    "        self.softmax = torch.nn.Softmax(dim=-1)\n",
    "\n",
    "    def forward(self,x):\n",
    "        batch_size = x.shape[0]\n",
    "        x1 = x.view(batch_size,-1)\n",
    "        p = self.softmax(self.comp_p(x1))\n",
    "        return p\n",
    "    \n",
    "class DECODER(torch.nn.Module):\n",
    "    \"\"\" z -> x \"\"\"\n",
    "    \n",
    "    def __init__(self, params):\n",
    "        super().__init__()\n",
    "        self.ch     = params['CHANNELS']\n",
    "        self.width  = params['WIDTH']\n",
    "        self.height = params['HEIGHT']\n",
    "        self.z_dim  = params['Z_DIM']\n",
    "        self.x_dim = self.ch*self.width*self.height\n",
    "        \n",
    "        self.comp_x_mu  = torch.nn.Linear(self.z_dim,self.x_dim, bias=True)\n",
    "         \n",
    "    def forward(self,z):\n",
    "        batch_size = z.shape[0]\n",
    "        x_mu = torch.sigmoid(self.comp_x_mu(z)).view(batch_size,self.ch,self.height,self.width)\n",
    "        return x_mu\n",
    "        \n",
    "\n",
    "\n",
    "class VAE(torch.nn.Module):\n",
    "    \n",
    "    def __init__(self,params,encoder,decoder):\n",
    "        super().__init__()\n",
    "        \n",
    "        # Parameters\n",
    "        self.use_cuda = params['use_cuda']\n",
    "        self.K      = params['K']\n",
    "        self.ch     = params['CHANNELS']\n",
    "        self.width  = params['WIDTH']\n",
    "        self.height = params['HEIGHT']\n",
    "        self.z_dim  = params['Z_DIM']\n",
    "        self.x_dim = self.ch*self.width*self.height\n",
    "        \n",
    "        # Instantiate the encoder and decoder\n",
    "        self.decoder = decoder\n",
    "        self.encoder = encoder\n",
    "        \n",
    "        if(self.use_cuda):\n",
    "            self.cuda()\n",
    "        \n",
    "    def guide(self, imgs=None):\n",
    "        \"\"\" 1. run the inference to get: zwhere,zwhat\n",
    "            2. sample latent variables \n",
    "        \"\"\"       \n",
    "        #-----------------------#\n",
    "        #--------  Trick -------#\n",
    "        #-----------------------#\n",
    "        if(imgs is None):\n",
    "            observed = False\n",
    "            imgs = torch.zeros(8,self.ch,self.height,self.width)\n",
    "            if(self.use_cuda):\n",
    "                imgs=imgs.cuda()\n",
    "        else:\n",
    "            observed = True\n",
    "        #-----------------------#\n",
    "        #----- Enf of Trick ----#\n",
    "        #-----------------------#\n",
    "\n",
    "        batch_size,ch,width,height = imgs.shape\n",
    "        pyro.module(\"encoder\", self.encoder)\n",
    "\n",
    "        # Global variables\n",
    "        self.locs_mu = pyro.param(\"locs_mu\",imgs.new_zeros(self.K,self.z_dim))\n",
    "        locs_q = pyro.sample('locs', dist.Delta(self.locs_mu).to_event(1))\n",
    "        \n",
    "        self.scales_mu = pyro.param(\"scales_mu\",imgs.new_ones(self.K,self.z_dim),constraint=constraints.positive)\n",
    "        scales_q = pyro.sample('scales', dist.Delta(self.scales_mu).to_event(1))\n",
    "        \n",
    "        self.concentrations_mu = pyro.param(\"concentrations\",imgs.new_ones(self.K),constraint=constraints.positive)\n",
    "        weights_q = pyro.sample('weights', dist.Dirichlet(self.concentrations_mu))\n",
    "        \n",
    "        with pyro.plate('batch_size', batch_size, dim=-1):\n",
    "            p = self.encoder(imgs)\n",
    "            assignment = pyro.sample('assignment',dist.Categorical(p))\n",
    "            z = pyro.sample('z_style', dist.Normal(locs_q[assignment], scales_q[assignment]).to_event(1))\n",
    "        return p,z\n",
    "            \n",
    "    def model(self, imgs=None):\n",
    "        \"\"\" 1. sample the latent from the prior:\n",
    "                - z_type ~ Categorical(weights) \n",
    "                - z_style ~ N(loc,scale) \n",
    "            2. runs the generative model\n",
    "            3. score the generative model against actual data \n",
    "        \"\"\"\n",
    "        #-----------------------#\n",
    "        #--------  Trick -------#\n",
    "        #-----------------------#\n",
    "        if(imgs is None):\n",
    "            observed = False\n",
    "            imgs = torch.zeros(8,self.ch,self.height,self.width)\n",
    "            if(self.use_cuda):\n",
    "                imgs=imgs.cuda()\n",
    "        else:\n",
    "            observed = True\n",
    "        #-----------------------#\n",
    "        #----- Enf of Trick ----#\n",
    "        #-----------------------#\n",
    "            \n",
    "        batch_size,ch,width,height = imgs.shape\n",
    "        pyro.module(\"decoder\", self.decoder)\n",
    "        \n",
    "        # Global variable\n",
    "        weights = pyro.sample('weights', dist.Dirichlet(0.5 * imgs.new_ones(self.K)))\n",
    "\n",
    "        # Variable for each components\n",
    "        with pyro.plate('components', self.K, dim=-1):\n",
    "            locs = pyro.sample('locs', dist.Normal(0., 3.*imgs.new_ones(self.K,self.z_dim)).to_event(1))\n",
    "            scales = pyro.sample('scales', dist.LogNormal(0., 0.125*imgs.new_ones(self.K,self.z_dim)).to_event(1))\n",
    "\n",
    "\n",
    "        # Variable for each image\n",
    "        with pyro.plate('batch_size', batch_size, dim=-1):\n",
    "            assignment = pyro.sample('assignment', dist.Categorical(weights))\n",
    "            z = pyro.sample('z_style', dist.Normal(locs[assignment], scales[assignment]).to_event(1))\n",
    "            x_mu = self.decoder(z) #x_mu is between 0 and 1\n",
    "            pyro.sample('obs', dist.Bernoulli(x_mu.view(-1,self.x_dim)).to_event(1), obs=imgs.view(-1,self.x_dim))\n",
    "    \n"
   ]
  },
  {
   "cell_type": "markdown",
   "metadata": {},
   "source": [
    "# GET THE DATA"
   ]
  },
  {
   "cell_type": "code",
   "execution_count": 26,
   "metadata": {},
   "outputs": [
    {
     "name": "stdout",
     "output_type": "stream",
     "text": [
      "torch.Size([256, 1, 28, 28])\n"
     ]
    },
    {
     "data": {
      "image/png": "[encoded data removed]",
      "text/plain": [
       "<Figure size 432x288 with 1 Axes>"
      ]
     },
     "metadata": {},
     "output_type": "display_data"
    }
   ],
   "source": [
    "BATCH_SIZE = 256\n",
    "kwargs = {'num_workers': 8, 'pin_memory': params[\"use_cuda\"]}\n",
    "\n",
    "trainset = torchvision.datasets.MNIST('./data', train=True, download=True, transform=tvt.ToTensor())\n",
    "trainloader = torch.utils.data.DataLoader(trainset, batch_size=BATCH_SIZE, shuffle=True, **kwargs)\n",
    "testset = torchvision.datasets.MNIST('./data', train=False, download=True, transform=tvt.ToTensor())\n",
    "testloader = torch.utils.data.DataLoader(testset, batch_size=BATCH_SIZE, shuffle=False, **kwargs)\n",
    "\n",
    "imgs,labels = next(iter(testloader))\n",
    "\n",
    "print(imgs.shape)\n",
    "show_batch(imgs[:8],npadding=4)"
   ]
  },
  {
   "cell_type": "code",
   "execution_count": 27,
   "metadata": {},
   "outputs": [],
   "source": [
    "encoder = ENCODER(params)\n",
    "decoder = DECODER(params)\n",
    "vae = VAE(params,encoder,decoder)\n",
    "vae.guide()\n",
    "vae.model()\n",
    "write_dir  = '/home/ldalessi/VAE_MINST/ARCHIVE/' \n"
   ]
  },
  {
   "cell_type": "code",
   "execution_count": 38,
   "metadata": {},
   "outputs": [
    {
     "name": "stdout",
     "output_type": "stream",
     "text": [
      "tensor([[1.2430e-10, 5.3009e-04, 8.7477e-05, 1.1432e-03, 4.1874e-04, 9.9703e-01,\n",
      "         7.4984e-06, 3.6723e-05, 1.0919e-04, 6.3594e-04],\n",
      "        [1.0671e-36, 1.4808e-04, 7.1642e-04, 1.4359e-04, 9.9821e-01, 2.8957e-13,\n",
      "         2.2412e-19, 7.1917e-04, 4.4429e-05, 2.3243e-05],\n",
      "        [1.7149e-24, 1.1846e-03, 9.9620e-01, 1.9101e-04, 5.9892e-06, 3.3663e-12,\n",
      "         6.4699e-05, 2.0797e-03, 1.3888e-04, 1.3935e-04],\n",
      "        [1.2284e-12, 2.0928e-02, 9.0770e-03, 4.0058e-02, 3.2281e-01, 5.6495e-01,\n",
      "         3.9411e-06, 4.9795e-03, 7.2929e-03, 2.9895e-02],\n",
      "        [2.4701e-10, 6.7765e-04, 8.9162e-03, 4.6572e-04, 1.3039e-07, 4.2598e-08,\n",
      "         9.8920e-01, 2.2009e-04, 2.2930e-04, 2.9245e-04],\n",
      "        [9.4040e-21, 2.3123e-02, 9.5325e-01, 9.4668e-03, 2.1621e-04, 3.8047e-08,\n",
      "         3.2287e-03, 4.0447e-03, 1.7719e-03, 4.8989e-03]], device='cuda:0',\n",
      "       grad_fn=<SliceBackward>)\n"
     ]
    },
    {
     "data": {
      "text/plain": [
       "<matplotlib.collections.PathCollection at 0x7fe21cb38438>"
      ]
     },
     "execution_count": 38,
     "metadata": {},
     "output_type": "execute_result"
    },
    {
     "data": {
      "image/png": "[encoded data removed]",
      "text/plain": [
       "<Figure size 432x288 with 1 Axes>"
      ]
     },
     "metadata": {},
     "output_type": "display_data"
    }
   ],
   "source": [
    "imgs,labels = next(iter(trainloader))\n",
    "#imgs,labels = next(iter(testloader))\n",
    "\n",
    "load_model(vae,write_dir,\"vae_v7_3857\")\n",
    "p,z = vae.guide(imgs.cuda())\n",
    "z = z.detach().cpu()\n",
    "print(p[:6,:])\n",
    "\n",
    "plt.scatter(z[:,0].numpy(),z[:,1].numpy(), c=labels)"
   ]
  },
  {
   "cell_type": "code",
   "execution_count": null,
   "metadata": {
    "collapsed": true
   },
   "outputs": [],
   "source": []
  },
  {
   "cell_type": "code",
   "execution_count": null,
   "metadata": {
    "collapsed": true
   },
   "outputs": [],
   "source": []
  }
 ],
 "metadata": {
  "kernelspec": {
   "display_name": "Python [conda env:pyro]",
   "language": "python",
   "name": "conda-env-pyro-py"
  },
  "language_info": {
   "codemirror_mode": {
    "name": "ipython",
    "version": 3
   },
   "file_extension": ".py",
   "mimetype": "text/x-python",
   "name": "python",
   "nbconvert_exporter": "python",
   "pygments_lexer": "ipython3",
   "version": "3.6.2"
  }
 },
 "nbformat": 4,
 "nbformat_minor": 2
}
